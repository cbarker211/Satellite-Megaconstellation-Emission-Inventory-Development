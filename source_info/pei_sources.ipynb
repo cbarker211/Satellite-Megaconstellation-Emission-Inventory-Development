{
 "cells": [
  {
   "attachments": {},
   "cell_type": "markdown",
   "metadata": {},
   "source": [
    "# Defining Primary Emission Indices for Rocket Launches in 2020\n",
    "\n",
    "## Fuel Type 1 - Hypergolic (all units are g/kg)"
   ]
  },
  {
   "cell_type": "code",
   "execution_count": 24,
   "metadata": {},
   "outputs": [
    {
     "name": "stdout",
     "output_type": "stream",
     "text": [
      "22.948647951239874\n",
      "54.83685241854859\n",
      "100.0\n"
     ]
    }
   ],
   "source": [
    "import numpy as np\n",
    "\n",
    "Hypergolic_H2O_Ross14 = 550 # This assumes no afterburning.\n",
    "Hypergolic_BC_Ross14  = 4   # (2-8) This assumes no afterburning.\n",
    "Hypergolic_CO2_Ross14 = 150 # Assumes no afterburning.\n",
    "\n",
    "Hypergolic_H2O_Ross2004 = 350\n",
    "Hypergolic_NO_Ross2004  = 20 # Proton using UDMH/N2O4, emitted as NO\n",
    "\n",
    "# These are all primary emission indices, which are varied with altitude in main program to get final emission indices.\n",
    "Hypergolic_H2O_James21   = 290  # Proton RD-253\n",
    "Hypergolic_H2_James21    = 4    # Proton RD-253 \n",
    "Hypergolic_CO_James21    = 69   # Proton RD-253\n",
    "Hypergolic_CO2_James21   = 289  # Proton RD-253\n",
    "Hypergolic_BC_James21    = 25   # Assumed due to lack of data\n",
    "Hypergolic_NOx_James21   = 0    # Proton RD-253 using UDMH/N2O4\n",
    "\n",
    "Hypergolic_H2O_Pradon23   = (380 + 440 + 330 + 230) / 4  #Averaged over 4 slightly different propellants (UDMH, MMH, UH25, AZ50), no afterburn.\n",
    "\n",
    "Hypergolic_H2O_Desain14_1 = 1000 * 0.5 * ((1.008*8 + 4*16) / 60.104 + (1.008*4 + 2*16) / 32.052) * (1 / 2.6) #Using F:O ratio from Pradon23.\n",
    "Hypergolic_H2O_Desain14_2 = 1000 * (1.008*8 + 4*16) / 60.104 * (1 / 3.1) #Using F:O ratio from Pradon23.\n",
    "Hypergolic_H2O_Desain14_3 = 1000 * (1.008*6 + 3*16) / 46.078 * (1 / 2.7) #Using F:O ratio from Pradon23.\n",
    "Hypergolic_H2O_Desain14_4 = 1000 * (0.75 * (1.008*8 + 4*16) / 60.104 + 0.25 * (1.008*4 + 2*16) / 32.052) * (1 / 2.7) #Using F:O ratio from Pradon23.\n",
    "Hypergolic_H2O_Desain14 = (Hypergolic_H2O_Desain14_1 + Hypergolic_H2O_Desain14_2 + Hypergolic_H2O_Desain14_3 + Hypergolic_H2O_Desain14_4) / 4\n",
    "\n",
    "#All primary EI.\n",
    "#Annual BC emission into the stratosphere can be estimated to first order from an expression EBC = N * 0.5P * EI(BC)\n",
    "#where N is the annual number of launches, P is the mean propellant load of the global fleet of launch vehicles,\n",
    "#the factor of 1/2 represents a typical fraction of total propellant burned above 12 km altitude.\n",
    "#and EI(BC) is the average BC emission index (post afterburning) for all rocket engines. So EI(BC) must be for propellant not fuel.\n",
    "Hypergolic_BC_MaloneySI = 20 #10-30 quoting 8 remote sensing measurement studies.\n",
    "\n",
    "##############\n",
    "# Final Values \n",
    "##############\n",
    "\n",
    "Hyp_H2O   = (Hypergolic_H2O_James21 + Hypergolic_H2O_Ross2004 + Hypergolic_H2O_Ross14 + Hypergolic_H2O_Desain14 + Hypergolic_H2O_Pradon23) / 5 #Average.\n",
    "Hyp_H2    = Hypergolic_H2_James21                                    \n",
    "Hyp_CO    = Hypergolic_CO_James21\n",
    "Hyp_CO2   = Hypergolic_CO2_Ross14\n",
    "Hyp_BC    = (Hypergolic_BC_Ross14 + Hypergolic_BC_James21 + Hypergolic_BC_MaloneySI)  / 3 #Average.\n",
    "Hyp_NOx   = (Hypergolic_NO_Ross2004 + Hypergolic_NOx_James21) / 2\n",
    "\n",
    "print(np.std([Hypergolic_H2O_James21,Hypergolic_H2O_Ross2004,Hypergolic_H2O_Ross14,Hypergolic_H2O_Desain14,Hypergolic_H2O_Pradon23])/Hyp_H2O*100)\n",
    "print(np.std((Hypergolic_BC_Ross14,Hypergolic_BC_James21,Hypergolic_BC_MaloneySI))/Hyp_BC*100)\n",
    "print(np.std((Hypergolic_NO_Ross2004,Hypergolic_NOx_James21))/Hyp_NOx*100)"
   ]
  },
  {
   "attachments": {},
   "cell_type": "markdown",
   "metadata": {},
   "source": [
    "## Fuel Type 2 - Kerosene"
   ]
  },
  {
   "cell_type": "code",
   "execution_count": 25,
   "metadata": {},
   "outputs": [
    {
     "name": "stdout",
     "output_type": "stream",
     "text": [
      "11.931694028705081\n",
      "32.924680701483354\n",
      "10.878565864408424\n"
     ]
    }
   ],
   "source": [
    "Kerosene_H2O_Ross14     = 350 \n",
    "Kerosene_BC_Ross14      = 20  # (10-40)\n",
    "Kerosene_CO2_Ross14     = 600\n",
    "\n",
    "# These are all primary emission indices, which are varied with altitude in main program to get final emission indices.\n",
    "Kerosene_H2O_James21    = (284  + 284 + 278 + 263 + 250) / 5 # Averaged over Antares 230, Atlas V, Electron, Falcon 9/Heavy and Saturn V\n",
    "Kerosene_H2_James21     = (6    + 6   + 9   + 12  + 15 ) / 5 # Averaged over Antares 230, Atlas V, Electron, Falcon 9/Heavy and Saturn V\n",
    "Kerosene_CO_James21     = (240  + 240 + 337 + 372 + 399) / 5 # Averaged over Antares 230, Atlas V, Electron, Falcon 9/Heavy and Saturn V\n",
    "Kerosene_BC_James21     = 25                                 # Based on fitting to three studies.\n",
    "Kerosene_CO2_James21    = (470  + 470 + 375 + 352 + 335) / 5 # Averaged over Antares 230, Atlas V, Electron, Falcon 9/Heavy and Saturn V\n",
    "\n",
    "Kerosene_H2O_Pradon23   = 360 #No afterburn, primary EI. \n",
    "Kerosene_CO2_Pradon     = 910\n",
    "\n",
    "Kerosene_H2O_Desain14   = 1000 * (1.008*2 + 16) / (12.01 + 1.008*2) * (1 / 3.4) #Using RP-1/LOX ratio of 2.4 from Pradon23. Primary EI.\n",
    "\n",
    "Kerosene_BC_MaloneySI   = 20  #10-30 quoting 8 remote sensing measurement studies.\n",
    "\n",
    "##############\n",
    "# Final Values \n",
    "##############\n",
    "\n",
    "Ker_H2O   = (Kerosene_H2O_Ross14 + Kerosene_H2O_James21 + Kerosene_H2O_Pradon23 + Kerosene_H2O_Desain14) / 4\n",
    "Ker_H2    = Kerosene_H2_James21\n",
    "Ker_CO    = Kerosene_CO_James21\n",
    "Ker_CO2   = (Kerosene_CO2_Ross14 + Kerosene_CO2_James21 + Kerosene_CO2_Pradon) / 3\n",
    "Ker_BC    = (Kerosene_BC_Ross14 + Kerosene_BC_MaloneySI + Kerosene_BC_James21) / 3\n",
    "\n",
    "print(np.std([Kerosene_H2O_Ross14,Kerosene_H2O_James21,Kerosene_H2O_Pradon23,Kerosene_H2O_Desain14])/Ker_H2O*100)\n",
    "print(np.std((Kerosene_CO2_Ross14,Kerosene_CO2_James21,Kerosene_CO2_Pradon))/Ker_CO2*100)\n",
    "print(np.std((Kerosene_BC_Ross14,Kerosene_BC_MaloneySI,Kerosene_BC_James21))/Ker_BC*100)"
   ]
  },
  {
   "attachments": {},
   "cell_type": "markdown",
   "metadata": {},
   "source": [
    "## Fuel Type 3 - Solid"
   ]
  },
  {
   "cell_type": "code",
   "execution_count": 26,
   "metadata": {},
   "outputs": [
    {
     "name": "stdout",
     "output_type": "stream",
     "text": [
      "42.72187362591456\n",
      "78.57142857142857\n",
      "54.83685241854859\n",
      "3.897271608232518\n",
      "1.18518594387155\n"
     ]
    }
   ],
   "source": [
    "Solid_H2O_Ross14   = 350 \n",
    "Solid_BC_Ross14    = 4   # (2-8).\n",
    "Solid_Al2O3_Ross14 = 320 # (60 for submicron mass fraction (10-120 range)). \n",
    "Solid_CO2_Ross14   = 200 \n",
    "\n",
    "# These are all primary emission indices, which are varied with altitude in main program to get final emission indices.\n",
    "# Malkin is included here (Space Shuttle row)\n",
    "Solid_H2O_James21   = (71  * 4 + 55  + 130 + 93)        / 7  # Averaged over Atlas V, Delta IV, Minotaur IV, Minotaur-C, Pegasus XL, Minotaur I, Space Shuttle.\n",
    "Solid_H2_James21    = (27  * 4 + 30  + 13  + 21)        / 7  # Averaged over Atlas V, Delta IV, Minotaur IV, Minotaur-C, Pegasus XL, Minotaur I, Space Shuttle.\n",
    "Solid_CO_James21    = (228 * 4 + 251 + 188 + 241)       / 7  # Averaged over Atlas V, Delta IV, Minotaur IV, Minotaur-C, Pegasus XL, Minotaur I, Space Shuttle.\n",
    "Solid_Al2O3_James21 = (358 * 3 + 357 + 359 + 300 + 301) / 7  # Averaged over Atlas V, Delta IV, Minotaur IV, Minotaur-C, Pegasus XL, Minotaur I, Space Shuttle.\n",
    "Solid_HCl_James21   = (209 * 4 + 205 + 194 + 212)       / 7  # Averaged over Atlas V, Delta IV, Minotaur IV, Minotaur-C, Pegasus XL, Minotaur I, Space Shuttle.\n",
    "Solid_Cl_James21    = (5   * 4 + 4   + 3   + 22)        / 7  # Averaged over Atlas V, Delta IV, Minotaur IV, Minotaur-C, Pegasus XL, Minotaur I, Space Shuttle.\n",
    "Solid_NOx_James21   = 1 / 7                                  # No PBAN in 2020 (that we know of, lots of undeclared solid propellant).\n",
    "Solid_BC_James21    = 25                                     # Based on a single assumption in literature from doi: 10.2514/1.30129.\n",
    "Solid_CO2_James21   = (18  * 3 + 13  + 19  + 48  + 34)  / 7  # Averaged over Atlas V, Delta IV, Minotaur IV, Minotaur-C, Pegasus XL, Minotaur I, Space Shuttle.\n",
    "Solid_Cly_James21   = Solid_HCl_James21 + Solid_Cl_James21   # Getting a total ei for cly, which can then be divided into HCl,Cl,Cl2 mass fractions in the main script.\n",
    "\n",
    "#All primary EI.\n",
    "Solid_BC_MaloneySI   = 20 #10-30 quoting 8 remote sensing measurement studies.\n",
    "\n",
    "#Stoichiometric, says it calculates emissions the same as Desain14 so will assume all Cly is HCl.\n",
    "Solid_H2O_Pradon23   = 390 #No afterburn.\n",
    "Solid_HCl_Pradon23   = 220 #No afterburn.\n",
    "Solid_Al2O3_Pradon23 = 340 #No afterburn.\n",
    "\n",
    "#All primary EI. All Cl is emitted as HCl so value can be taken as Cly.\n",
    "Solid_Al2O3_Desain14 = 1000 * 0.165 * (26.98*2 + 16*3) / (26.98*2)\n",
    "Solid_HCl_Desain14   = 1000 * 0.7 * (35.45+1.008) / (35.45+16*4+14.01+1.008*4)\n",
    "Solid_H2O_Desain14   = 1000 * ((1-0.7-0.165) * (1.008*2+16) / 14.0126 + 0.7 * (1.008*4+16*2) / (117.492))\n",
    "\n",
    "##############\n",
    "# Final Values \n",
    "##############\n",
    "\n",
    "Sol_H2O   = (Solid_H2O_Ross14 + Solid_H2O_James21 + Solid_H2O_Pradon23 + Solid_H2O_Desain14) / 4\n",
    "Sol_H2    = Solid_H2_James21\n",
    "Sol_CO    = Solid_CO_James21\n",
    "Sol_CO2   = (Solid_CO2_James21 + Solid_CO2_Ross14) / 2\n",
    "Sol_BC    = (Solid_BC_Ross14 + Solid_BC_MaloneySI + Solid_BC_James21) / 3\n",
    "Sol_NOx   = Solid_NOx_James21\n",
    "Sol_Al2O3 = (Solid_Al2O3_Ross14 + Solid_Al2O3_James21 + Solid_Al2O3_Pradon23 + Solid_Al2O3_Desain14) / 4\n",
    "Sol_Cly   = (Solid_Cly_James21 + Solid_HCl_Pradon23 + Solid_HCl_Desain14) / 3\n",
    "\n",
    "print(np.std((Solid_H2O_Ross14,Solid_H2O_James21,Solid_H2O_Pradon23,Solid_H2O_Desain14))/Sol_H2O*100)\n",
    "print(np.std((Solid_CO2_James21,Solid_CO2_Ross14))/Sol_CO2*100)\n",
    "print(np.std((Solid_BC_Ross14,Solid_BC_MaloneySI,Solid_BC_James21))/Sol_BC*100)\n",
    "print(np.std((Solid_Al2O3_Ross14,Solid_Al2O3_James21,Solid_Al2O3_Pradon23,Solid_Al2O3_Desain14))/Sol_Al2O3*100)\n",
    "print(np.std((Solid_Cly_James21,Solid_HCl_Pradon23,Solid_HCl_Desain14))/Sol_Cly*100)"
   ]
  },
  {
   "attachments": {},
   "cell_type": "markdown",
   "metadata": {},
   "source": [
    "## Fuel Type 4 - Hydrogen"
   ]
  },
  {
   "cell_type": "code",
   "execution_count": 27,
   "metadata": {},
   "outputs": [
    {
     "name": "stdout",
     "output_type": "stream",
     "text": [
      "11.640307306178695\n"
     ]
    }
   ],
   "source": [
    "Hydrogen_H2O_Larson17 = 1000 \n",
    "# This must be for propellant to match other values. * (1 / 6.5) #Using fuel:oxidiser of 5.5 from Pradon23.\n",
    "# \"The main exhaust is H2O, which can be calculated directly from the amount of H2 fuel consumed.\"\n",
    "# 6:1 mass ratio of O:H. Assumes no afterburning for this value, is considered later in paper.\n",
    "\n",
    "Hydrogen_H2O_Ross14 = 1000 # Assumes no afterburning.\n",
    "\n",
    "# These are all primary emission indices, which are varied with altitude in main program to get final emission indices.\n",
    "Hydrogen_H2O_James21 = (965 + 965 + 959) / 3 # Averaged over Delta IV, New Shepard and Space Shuttle\n",
    "Hydrogen_H2_James21  = (35 + 35 + 35)    / 3 # Averaged over Delta IV, New Shepard and Space Shuttle\n",
    "\n",
    "Hydrogen_H2O_Pradon23   = 1270 # Stoichiometric only, no afterburning.\n",
    "\n",
    "##############\n",
    "# Final Values \n",
    "##############\n",
    "\n",
    "Hyd_H2O = (Hydrogen_H2O_James21 + Hydrogen_H2O_Larson17 + Hydrogen_H2O_Ross14 + Hydrogen_H2O_Pradon23) / 4 #Average.\n",
    "Hyd_H2  = Hydrogen_H2_James21\n",
    "\n",
    "print(np.std([Hydrogen_H2O_James21,Hydrogen_H2O_Larson17,Hydrogen_H2O_Ross14,Hydrogen_H2O_Pradon23])/Hyd_H2O*100)"
   ]
  },
  {
   "cell_type": "markdown",
   "metadata": {},
   "source": [
    "## Fuel Type 4 - Methane"
   ]
  },
  {
   "cell_type": "code",
   "execution_count": 28,
   "metadata": {},
   "outputs": [],
   "source": [
    "# These are all primary emission indices, which are varied with altitude in main program to get final emission indices. Averaged over New Glenn and Starship\n",
    "Methane_H2O_James21 = (439+452) / 2\n",
    "Methane_H2_James21  = (11+2)    / 2\n",
    "Methane_CO_James21  = (189+51)  / 2\n",
    "Methane_BC_James21  = 5 # Based on results from internal combustion engines from doi: 10.1016/j.scitotenv.2016.08.027\n",
    "Methane_CO2_James21 = (360+492) / 2\n",
    "\n",
    "##############\n",
    "# Final Values \n",
    "##############\n",
    "\n",
    "Met_H2O   = Methane_H2O_James21\n",
    "Met_H2    = Methane_H2_James21\n",
    "Met_CO    = Methane_CO_James21\n",
    "Met_CO2   = Methane_CO2_James21\n",
    "Met_BC    = Methane_BC_James21"
   ]
  },
  {
   "attachments": {},
   "cell_type": "markdown",
   "metadata": {},
   "source": [
    "## Save the PEI to a csv using Pandas"
   ]
  },
  {
   "cell_type": "code",
   "execution_count": 29,
   "metadata": {},
   "outputs": [],
   "source": [
    "import pandas as pd\n",
    "df = pd.DataFrame(\n",
    "    {\n",
    "        \"Fuel Type\": [\"Hypergolic\", \"Kerosene\", \"Solid\", \"Hydrogen\", \"Methane\"],\n",
    "        \"H2O\":   [Hyp_H2O, Ker_H2O, Sol_H2O,   Hyd_H2O, Met_H2O],\n",
    "        \"H2\":    [Hyp_H2,  Ker_H2,  Sol_H2,    Hyd_H2,  Met_H2],\n",
    "        \"CO\":    [Hyp_CO,  Ker_CO,  Sol_CO,    0,       Met_CO],\n",
    "        \"CO2\":   [Hyp_CO2, Ker_CO2, Sol_CO2,   0,       Met_CO2],\n",
    "        \"BC\":    [Hyp_BC,  Ker_BC,  Sol_BC,    0,       Met_BC],\n",
    "        \"NOx\":   [Hyp_NOx, 0,       Sol_NOx,   0,       0],\n",
    "        \"Al2O3\": [0,       0,       Sol_Al2O3, 0,       0],\n",
    "        \"Cly\":   [0,       0,       Sol_Cly,   0,       0],\n",
    "    }\n",
    ").round(0)\n",
    "df.to_csv(\"./../input_files/primary_emission_indices.csv\", float_format='%.3f')"
   ]
  }
 ],
 "metadata": {
  "kernelspec": {
   "display_name": "Python 3 (ipykernel)",
   "language": "python",
   "name": "python3"
  },
  "language_info": {
   "codemirror_mode": {
    "name": "ipython",
    "version": 3
   },
   "file_extension": ".py",
   "mimetype": "text/x-python",
   "name": "python",
   "nbconvert_exporter": "python",
   "pygments_lexer": "ipython3",
   "version": "3.9.6"
  },
  "orig_nbformat": 4
 },
 "nbformat": 4,
 "nbformat_minor": 2
}
